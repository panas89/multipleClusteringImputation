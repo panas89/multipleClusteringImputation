{
 "cells": [
  {
   "cell_type": "markdown",
   "metadata": {},
   "source": [
    "# Import Data"
   ]
  },
  {
   "cell_type": "code",
   "execution_count": null,
   "metadata": {},
   "outputs": [],
   "source": [
    "import pandas as pd\n",
    "import numpy as np\n",
    "from mcip import *"
   ]
  },
  {
   "cell_type": "code",
   "execution_count": null,
   "metadata": {},
   "outputs": [],
   "source": [
    "dfTest = pd.read_csv('./Data/testComplDataCI_5_year_Risk.csv')\n",
    "dfTestMissing = pd.read_csv('./Data/preProcDataTestMissing.csv')\n",
    "df = pd.read_csv('./Data/datasetOfCI_5_year_Risk.csv')\n",
    "df.head(5)"
   ]
  },
  {
   "cell_type": "code",
   "execution_count": null,
   "metadata": {},
   "outputs": [],
   "source": [
    "len(dfTest)"
   ]
  },
  {
   "cell_type": "code",
   "execution_count": null,
   "metadata": {},
   "outputs": [],
   "source": [
    "len(df)"
   ]
  },
  {
   "cell_type": "markdown",
   "metadata": {},
   "source": [
    "# Plot histograms of the risks of complete data and imputed data with the threshold\n",
    "\n",
    "- plot of the original complete Data risk values\n",
    "- plot of the imputed Data risk values"
   ]
  },
  {
   "cell_type": "code",
   "execution_count": null,
   "metadata": {},
   "outputs": [],
   "source": [
    "plotDistributionCI(X=dfTest['5YearAbsRisk'].as_matrix(),theshold=1.67,ymax=40, bins=300)"
   ]
  },
  {
   "cell_type": "code",
   "execution_count": null,
   "metadata": {},
   "outputs": [],
   "source": [
    "plotDistributionCI(X=df['5YearAbsRisk'].as_matrix(),theshold=1.67,ymax=400, bins=300)"
   ]
  },
  {
   "cell_type": "markdown",
   "metadata": {},
   "source": [
    "# Print results\n",
    "\n",
    "- Original data\n",
    "    - HRs > 1.67\n",
    "    - LRs <= 1.67\n",
    "- Imputed Data, unique cases\n",
    "    - HRs > 1.67\n",
    "    - LRs <= 1.67\n",
    "    - Uncertain: Interval of risk between the 1.67 threshold"
   ]
  },
  {
   "cell_type": "markdown",
   "metadata": {},
   "source": [
    "## Original complete dataset\n",
    "- 5YearAbsRisk is the risk computed on the original complete dataset"
   ]
  },
  {
   "cell_type": "code",
   "execution_count": null,
   "metadata": {},
   "outputs": [],
   "source": [
    "cond = dfTest['5YearAbsRisk'] > 1.67\n",
    "dfTest['Binary_Outcome'] = np.zeros(len(dfTest))\n",
    "dfTest.loc[cond,'Binary_Outcome'] = 1"
   ]
  },
  {
   "cell_type": "code",
   "execution_count": null,
   "metadata": {},
   "outputs": [],
   "source": [
    "print('HRs: ', np.sum(dfTest.Binary_Outcome==1))\n",
    "print('LRs: ', np.sum(dfTest.Binary_Outcome==0))"
   ]
  },
  {
   "cell_type": "markdown",
   "metadata": {},
   "source": [
    "## Missing values dataset"
   ]
  },
  {
   "cell_type": "code",
   "execution_count": null,
   "metadata": {},
   "outputs": [],
   "source": [
    "cond = df['5YearAbsRisk'] > 1.67\n",
    "df['Binary_Outcome'] = np.zeros(len(df))\n",
    "df.loc[cond,'Binary_Outcome'] = 1"
   ]
  },
  {
   "cell_type": "code",
   "execution_count": null,
   "metadata": {},
   "outputs": [],
   "source": [
    "uniqueCases = dfTest.oldIndex.unique()\n",
    "len(uniqueCases)"
   ]
  },
  {
   "cell_type": "code",
   "execution_count": null,
   "metadata": {},
   "outputs": [],
   "source": [
    "#create variable Uncertainty\n",
    "\n",
    "# From the subset of simulated data points with imputed values\n",
    "# if all of them have a high risk higher than 1.67 then its High Risk = 1\n",
    "# if all of the have a low risk lower than 1.67 then its Low Risk = 0\n",
    "# if there are both low and high risk then its an Uncertain = 2\n",
    "\n",
    "from tqdm import tqdm_notebook\n",
    "\n",
    "for i in tqdm_notebook(uniqueCases):\n",
    "    subset = df[df['oldIndex'] == i]\n",
    "    \n",
    "    if(subset.Binary_Outcome.sum() == len(subset)):\n",
    "        df.loc[df['oldIndex'] == i,'Uncertainty_Outcome'] = 1\n",
    "    elif(subset.Binary_Outcome.sum() == 0):\n",
    "        df.loc[df['oldIndex'] == i,'Uncertainty_Outcome'] = 0\n",
    "    else:\n",
    "        df.loc[df['oldIndex'] == i,'Uncertainty_Outcome'] = 2 #interval of risk crossing the 1.67 point"
   ]
  },
  {
   "cell_type": "code",
   "execution_count": null,
   "metadata": {},
   "outputs": [],
   "source": [
    "df.head(5)"
   ]
  },
  {
   "cell_type": "code",
   "execution_count": null,
   "metadata": {},
   "outputs": [],
   "source": [
    "# get a vector of unique risk status for each data point\n",
    "uniqueUncertainty_Outcomes = np.array([np.max(df.loc[df['oldIndex'] == i,'Uncertainty_Outcome']) for i in uniqueCases])"
   ]
  },
  {
   "cell_type": "code",
   "execution_count": null,
   "metadata": {},
   "outputs": [],
   "source": [
    "print('High Risk Outcomes: ', np.sum(uniqueUncertainty_Outcomes == 1))\n",
    "print('Low Risk Outcomes: ', np.sum(uniqueUncertainty_Outcomes == 0))\n",
    "print('Uncertain Outcomes: ', np.sum(uniqueUncertainty_Outcomes == 2))\n",
    "\n",
    "print('HRs --> HRs: ', np.sum((dfTest.Binary_Outcome==1) & (uniqueUncertainty_Outcomes == 1)))\n",
    "print('LRs --> LRs: ', np.sum((dfTest.Binary_Outcome==0) & (uniqueUncertainty_Outcomes == 0)))\n",
    "print('HRs --> LRs: ', np.sum((dfTest.Binary_Outcome==1) & (uniqueUncertainty_Outcomes == 0)))\n",
    "print('LRs --> HRs: ', np.sum((dfTest.Binary_Outcome==0) & (uniqueUncertainty_Outcomes == 1)))\n",
    "\n",
    "print('HRs --> Us: ', np.sum((dfTest.Binary_Outcome==1) & (uniqueUncertainty_Outcomes == 2)))\n",
    "print('LRs --> Us: ', np.sum((dfTest.Binary_Outcome==0) & (uniqueUncertainty_Outcomes == 2)))\n",
    "\n"
   ]
  },
  {
   "cell_type": "markdown",
   "metadata": {},
   "source": [
    "## Example of case with imputed values"
   ]
  },
  {
   "cell_type": "code",
   "execution_count": null,
   "metadata": {},
   "outputs": [],
   "source": [
    "df.loc[df.oldIndex==22162,:]"
   ]
  },
  {
   "cell_type": "code",
   "execution_count": null,
   "metadata": {},
   "outputs": [],
   "source": [
    "confidenceInterval(X=df.loc[df.oldIndex==22162,:].C_menarcheage,alpha=0.95)"
   ]
  },
  {
   "cell_type": "code",
   "execution_count": null,
   "metadata": {},
   "outputs": [],
   "source": [
    "dfTestMissing.loc[dfTestMissing.oldIndex==22162,:]"
   ]
  },
  {
   "cell_type": "code",
   "execution_count": null,
   "metadata": {},
   "outputs": [],
   "source": [
    "dfTest.loc[dfTest.oldIndex==22162,:]"
   ]
  },
  {
   "cell_type": "code",
   "execution_count": null,
   "metadata": {},
   "outputs": [],
   "source": [
    "dfTest.loc[dfTest.oldIndex==24442,'5YearAbsRisk']"
   ]
  },
  {
   "cell_type": "markdown",
   "metadata": {},
   "source": [
    "## Plot of risk Distribution of a case near 1.67 risk"
   ]
  },
  {
   "cell_type": "markdown",
   "metadata": {},
   "source": [
    "### Uncertain case"
   ]
  },
  {
   "cell_type": "code",
   "execution_count": null,
   "metadata": {},
   "outputs": [],
   "source": [
    "df[(df.Uncertainty_Outcome==2)].oldIndex.unique()"
   ]
  },
  {
   "cell_type": "code",
   "execution_count": null,
   "metadata": {},
   "outputs": [],
   "source": [
    "df[(df.Uncertainty_Outcome==2)].describe()"
   ]
  },
  {
   "cell_type": "code",
   "execution_count": null,
   "metadata": {},
   "outputs": [],
   "source": [
    "df.loc[df.oldIndex==29763,'5YearAbsRisk'].as_matrix()"
   ]
  },
  {
   "cell_type": "code",
   "execution_count": null,
   "metadata": {},
   "outputs": [],
   "source": [
    "plotDistributionCIRisk(df.loc[df.oldIndex==29763,'5YearAbsRisk'].as_matrix(), ymax=100, bins=50)"
   ]
  },
  {
   "cell_type": "markdown",
   "metadata": {},
   "source": [
    "#### HR --> U"
   ]
  },
  {
   "cell_type": "code",
   "execution_count": null,
   "metadata": {},
   "outputs": [],
   "source": [
    "df[(df.Uncertainty_Outcome==2) & (df.G_5yearscore.between(left=1.67,right=7))].oldIndex.unique()"
   ]
  },
  {
   "cell_type": "code",
   "execution_count": null,
   "metadata": {},
   "outputs": [],
   "source": [
    "df[(df.Uncertainty_Outcome==2) & (df.G_5yearscore.between(left=1.67,right=7))].describe()"
   ]
  },
  {
   "cell_type": "markdown",
   "metadata": {},
   "source": [
    "#### LR --> U"
   ]
  },
  {
   "cell_type": "code",
   "execution_count": null,
   "metadata": {},
   "outputs": [],
   "source": [
    "df[(df.Uncertainty_Outcome==2) & (df.G_5yearscore.between(left=0,right=1.669))].oldIndex.unique()"
   ]
  },
  {
   "cell_type": "code",
   "execution_count": null,
   "metadata": {},
   "outputs": [],
   "source": [
    "df[(df.Uncertainty_Outcome==2) & (df.G_5yearscore.between(left=0,right=1.669))].describe()"
   ]
  },
  {
   "cell_type": "markdown",
   "metadata": {},
   "source": [
    "### HR "
   ]
  },
  {
   "cell_type": "code",
   "execution_count": null,
   "metadata": {},
   "outputs": [],
   "source": [
    "df[(df.Uncertainty_Outcome==1)].oldIndex.unique()"
   ]
  },
  {
   "cell_type": "code",
   "execution_count": null,
   "metadata": {},
   "outputs": [],
   "source": [
    "df[(df.Uncertainty_Outcome==1)].describe()"
   ]
  },
  {
   "cell_type": "markdown",
   "metadata": {},
   "source": [
    "#### HR --> HR"
   ]
  },
  {
   "cell_type": "code",
   "execution_count": null,
   "metadata": {},
   "outputs": [],
   "source": [
    "df[(df.Uncertainty_Outcome==1) & (df.G_5yearscore.between(left=1.67,right=7))].oldIndex.unique()"
   ]
  },
  {
   "cell_type": "code",
   "execution_count": null,
   "metadata": {},
   "outputs": [],
   "source": [
    "df[(df.Uncertainty_Outcome==1) & (df.G_5yearscore.between(left=1.67,right=7))].describe()"
   ]
  },
  {
   "cell_type": "markdown",
   "metadata": {},
   "source": [
    "#### HR --> LR"
   ]
  },
  {
   "cell_type": "code",
   "execution_count": null,
   "metadata": {},
   "outputs": [],
   "source": [
    "df[(df.Uncertainty_Outcome==0) & (df.G_5yearscore.between(left=1.67,right=8))].oldIndex.unique()"
   ]
  },
  {
   "cell_type": "code",
   "execution_count": null,
   "metadata": {},
   "outputs": [],
   "source": [
    "df[(df.Uncertainty_Outcome==0) & (df.G_5yearscore.between(left=1.67,right=8))].describe()"
   ]
  },
  {
   "cell_type": "markdown",
   "metadata": {},
   "source": [
    "### LR"
   ]
  },
  {
   "cell_type": "code",
   "execution_count": null,
   "metadata": {},
   "outputs": [],
   "source": [
    "df[(df.Uncertainty_Outcome==0)].oldIndex.unique()"
   ]
  },
  {
   "cell_type": "code",
   "execution_count": null,
   "metadata": {},
   "outputs": [],
   "source": [
    "df[(df.Uncertainty_Outcome==0)].describe()"
   ]
  },
  {
   "cell_type": "markdown",
   "metadata": {},
   "source": [
    "#### LR --> LR"
   ]
  },
  {
   "cell_type": "code",
   "execution_count": null,
   "metadata": {},
   "outputs": [],
   "source": [
    "df[(df.Uncertainty_Outcome==0) & (df.G_5yearscore.between(left=0,right=1.669))].oldIndex.unique()"
   ]
  },
  {
   "cell_type": "code",
   "execution_count": null,
   "metadata": {},
   "outputs": [],
   "source": [
    "df[(df.Uncertainty_Outcome==0) & (df.G_5yearscore.between(left=0,right=1.669))].describe()"
   ]
  },
  {
   "cell_type": "markdown",
   "metadata": {},
   "source": [
    "#### LR --> HR"
   ]
  },
  {
   "cell_type": "code",
   "execution_count": null,
   "metadata": {},
   "outputs": [],
   "source": [
    "df[(df.Uncertainty_Outcome==1) & (df.G_5yearscore.between(left=0,right=1.669))].oldIndex.unique()"
   ]
  },
  {
   "cell_type": "code",
   "execution_count": null,
   "metadata": {},
   "outputs": [],
   "source": [
    "df[(df.Uncertainty_Outcome==1) & (df.G_5yearscore.between(left=0,right=1.669))].describe()"
   ]
  },
  {
   "cell_type": "markdown",
   "metadata": {},
   "source": [
    "# Analysis of Imputed values based on variables distribution\n",
    "- Create a unique per index dataset of the imputed values\n",
    "\n",
    "- Imputed Data\n",
    "    - Analysis of categories per variable\n",
    "- Original Data\n",
    "    - Analysis of categories per variable\n"
   ]
  },
  {
   "cell_type": "code",
   "execution_count": null,
   "metadata": {},
   "outputs": [],
   "source": [
    "uniqueData = []\n",
    "stringCols = ['MRN_D','race']\n",
    "cols = [i for i in df.columns if i not in stringCols]\n",
    "\n",
    "for i in tqdm_notebook(uniqueCases):\n",
    "    subset = df[df['oldIndex'] == i]\n",
    "    subset1 = subset[cols].mean(axis=0)\n",
    "    subset2 = subset[stringCols].iloc[0]\n",
    "    \n",
    "    subset = np.concatenate((subset1.as_matrix(),subset2.as_matrix()))\n",
    "    uniqueData.append(subset)\n",
    "    \n",
    "dfUnique = pd.DataFrame(data = np.array(uniqueData),columns=cols + stringCols)\n",
    "    \n",
    "#dfUnique.head(5)\n",
    "len(dfUnique)"
   ]
  },
  {
   "cell_type": "code",
   "execution_count": null,
   "metadata": {},
   "outputs": [],
   "source": [
    "dfUnique.head(5)"
   ]
  },
  {
   "cell_type": "markdown",
   "metadata": {},
   "source": [
    "# Analysis of outcomes in terms of missing data\n",
    "\n",
    "- Present an analysis for each group of:\n",
    "    - Uncertain, \n",
    "    - HR, \n",
    "    - LR, \n",
    "    - LRs-->HRs\n",
    "    - HRs --> LRs, \n",
    "\n",
    "in terms of the percentage of missing values per variable"
   ]
  },
  {
   "cell_type": "code",
   "execution_count": null,
   "metadata": {},
   "outputs": [],
   "source": [
    "dfTestMissing = pd.read_csv('./Data/preProcDataTestMissing.csv')\n",
    "dfTestMissingExt = pd.read_csv('./Data/preProcDataExtTestMissing.csv')\n",
    "\n",
    "## Analysis merging test and validation data\n",
    "dfTestMissing = dfTestMissing.append(dfTestMissingExt,ignore_index=True)\n",
    "dfTestMissing.set_index('oldIndex',inplace=True)"
   ]
  },
  {
   "cell_type": "code",
   "execution_count": null,
   "metadata": {},
   "outputs": [],
   "source": [
    "len(dfTestMissing)"
   ]
  },
  {
   "cell_type": "markdown",
   "metadata": {},
   "source": [
    "## Uncertain cases"
   ]
  },
  {
   "cell_type": "code",
   "execution_count": null,
   "metadata": {},
   "outputs": [],
   "source": [
    "len(dfTestMissing.loc[dfUnique.oldIndex[dfUnique.Uncertainty_Outcome==2],:])"
   ]
  },
  {
   "cell_type": "code",
   "execution_count": null,
   "metadata": {},
   "outputs": [],
   "source": [
    "dfTestMissing.loc[dfUnique.oldIndex[dfUnique.Uncertainty_Outcome==2],:].describe()"
   ]
  },
  {
   "cell_type": "code",
   "execution_count": null,
   "metadata": {},
   "outputs": [],
   "source": [
    "pd.DataFrame(dfTestMissing.loc[dfUnique.oldIndex[dfUnique.Uncertainty_Outcome==2],:].isnull().sum()/len(dfTestMissing.loc[dfUnique.oldIndex[dfUnique.Uncertainty_Outcome==2],:]))"
   ]
  },
  {
   "cell_type": "markdown",
   "metadata": {},
   "source": [
    "## HRs"
   ]
  },
  {
   "cell_type": "code",
   "execution_count": null,
   "metadata": {},
   "outputs": [],
   "source": [
    "len(dfTestMissing.loc[dfUnique.oldIndex[dfUnique.Uncertainty_Outcome==1],:])"
   ]
  },
  {
   "cell_type": "code",
   "execution_count": null,
   "metadata": {},
   "outputs": [],
   "source": [
    "dfTestMissing.loc[dfUnique.oldIndex[dfUnique.Uncertainty_Outcome==1],:].describe()"
   ]
  },
  {
   "cell_type": "code",
   "execution_count": null,
   "metadata": {},
   "outputs": [],
   "source": [
    "pd.DataFrame(dfTestMissing.loc[dfUnique.oldIndex[dfUnique.Uncertainty_Outcome==1],:].isnull().sum()/len(dfTestMissing.loc[dfUnique.oldIndex[dfUnique.Uncertainty_Outcome==1],:]))"
   ]
  },
  {
   "cell_type": "markdown",
   "metadata": {},
   "source": [
    "## LRs"
   ]
  },
  {
   "cell_type": "code",
   "execution_count": null,
   "metadata": {},
   "outputs": [],
   "source": [
    "len(dfTestMissing.loc[dfUnique.oldIndex[dfUnique.Uncertainty_Outcome==0],:])"
   ]
  },
  {
   "cell_type": "code",
   "execution_count": null,
   "metadata": {},
   "outputs": [],
   "source": [
    "dfTestMissing.loc[dfUnique.oldIndex[dfUnique.Uncertainty_Outcome==0],:].describe()"
   ]
  },
  {
   "cell_type": "code",
   "execution_count": null,
   "metadata": {},
   "outputs": [],
   "source": [
    "pd.DataFrame(dfTestMissing.loc[dfUnique.oldIndex[dfUnique.Uncertainty_Outcome==0],:].isnull().sum()/len(dfTestMissing.loc[dfUnique.oldIndex[dfUnique.Uncertainty_Outcome==0],:]))"
   ]
  },
  {
   "cell_type": "markdown",
   "metadata": {},
   "source": [
    "## LRs --> HRs"
   ]
  },
  {
   "cell_type": "code",
   "execution_count": null,
   "metadata": {},
   "outputs": [],
   "source": [
    "cond = np.array((uniqueUncertainty_Outcomes == 1) & (dfTest.Binary_Outcome==0))\n",
    "len(dfTestMissing[cond])"
   ]
  },
  {
   "cell_type": "code",
   "execution_count": null,
   "metadata": {},
   "outputs": [],
   "source": [
    "dfTestMissing.loc[cond,:].describe()"
   ]
  },
  {
   "cell_type": "code",
   "execution_count": null,
   "metadata": {},
   "outputs": [],
   "source": [
    "pd.DataFrame(dfTestMissing.loc[cond,:].isnull().sum()/len(dfTestMissing.loc[cond,:]))"
   ]
  },
  {
   "cell_type": "markdown",
   "metadata": {},
   "source": [
    "## HRs --> LRs"
   ]
  },
  {
   "cell_type": "code",
   "execution_count": null,
   "metadata": {},
   "outputs": [],
   "source": [
    "cond = np.array((uniqueUncertainty_Outcomes == 0) & (dfTest.Binary_Outcome==1))\n",
    "len(dfTestMissing[cond])"
   ]
  },
  {
   "cell_type": "code",
   "execution_count": null,
   "metadata": {},
   "outputs": [],
   "source": [
    "dfTestMissing.loc[cond,:].describe()"
   ]
  },
  {
   "cell_type": "code",
   "execution_count": null,
   "metadata": {},
   "outputs": [],
   "source": [
    "pd.DataFrame(dfTestMissing.loc[cond,:].isnull().sum()/len(dfTestMissing.loc[cond,:]))"
   ]
  },
  {
   "cell_type": "code",
   "execution_count": null,
   "metadata": {},
   "outputs": [],
   "source": []
  },
  {
   "cell_type": "code",
   "execution_count": null,
   "metadata": {},
   "outputs": [],
   "source": []
  }
 ],
 "metadata": {
  "kernelspec": {
   "display_name": "Python 3",
   "language": "python",
   "name": "python3"
  },
  "language_info": {
   "codemirror_mode": {
    "name": "ipython",
    "version": 3
   },
   "file_extension": ".py",
   "mimetype": "text/x-python",
   "name": "python",
   "nbconvert_exporter": "python",
   "pygments_lexer": "ipython3",
   "version": "3.6.0"
  },
  "toc": {
   "colors": {
    "hover_highlight": "#DAA520",
    "navigate_num": "#000000",
    "navigate_text": "#333333",
    "running_highlight": "#FF0000",
    "selected_highlight": "#FFD700",
    "sidebar_border": "#EEEEEE",
    "wrapper_background": "#FFFFFF"
   },
   "moveMenuLeft": true,
   "nav_menu": {
    "height": "31px",
    "width": "252px"
   },
   "navigate_menu": true,
   "number_sections": true,
   "sideBar": true,
   "threshold": 4,
   "toc_cell": false,
   "toc_position": {
    "height": "1070px",
    "left": "0px",
    "right": "2237px",
    "top": "108px",
    "width": "163px"
   },
   "toc_section_display": "block",
   "toc_window_display": true,
   "widenNotebook": false
  }
 },
 "nbformat": 4,
 "nbformat_minor": 2
}
