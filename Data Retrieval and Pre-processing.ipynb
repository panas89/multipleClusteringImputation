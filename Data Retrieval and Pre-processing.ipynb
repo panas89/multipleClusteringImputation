{
 "cells": [
  {
   "cell_type": "markdown",
   "metadata": {},
   "source": [
    "# Breast Cancer clustering imputation method"
   ]
  },
  {
   "cell_type": "markdown",
   "metadata": {},
   "source": [
    "## Import Data"
   ]
  },
  {
   "cell_type": "code",
   "execution_count": null,
   "metadata": {},
   "outputs": [],
   "source": [
    "import pandas as pd\n",
    "import numpy as np"
   ]
  },
  {
   "cell_type": "code",
   "execution_count": null,
   "metadata": {},
   "outputs": [],
   "source": [
    "#df = pd.read_csv('./Data/barlow_risk_data_multiple.txt',header=None,sep=\"\\s*\", engine='python')\n",
    "df = pd.read_csv('./Data/Athena_UCLA_Data.csv')\n",
    "df.head(4)"
   ]
  },
  {
   "cell_type": "code",
   "execution_count": null,
   "metadata": {},
   "outputs": [],
   "source": [
    "print('Number of instances: ' ,len(df))"
   ]
  },
  {
   "cell_type": "markdown",
   "metadata": {},
   "source": [
    "### Unique elements for each Variable"
   ]
  },
  {
   "cell_type": "code",
   "execution_count": null,
   "metadata": {},
   "outputs": [],
   "source": [
    "for i in df.columns:\n",
    "    print('Unique values of variable \\\"' + i + '\\\": ' + str(df[i].unique()))"
   ]
  },
  {
   "cell_type": "markdown",
   "metadata": {},
   "source": [
    "### Replace Missing values\n",
    "- '\\\\0' values\n",
    "- '99' values"
   ]
  },
  {
   "cell_type": "code",
   "execution_count": null,
   "metadata": {},
   "outputs": [],
   "source": [
    "df.replace(value=np.nan,to_replace='\\\\0',inplace=True)\n",
    "cols = [i for i in df.columns if i!='C_currentage'] # 99 is not a missing value for age according to the dictionary\n",
    "df.loc[:,cols] = df.loc[:,cols].replace(value=np.nan,to_replace=99)\n",
    "\n",
    "print('List of Variables and the number of missing values per variable: ')\n",
    "df.isnull().sum()"
   ]
  },
  {
   "cell_type": "markdown",
   "metadata": {},
   "source": [
    "### Change type of string columns to numeric"
   ]
  },
  {
   "cell_type": "code",
   "execution_count": null,
   "metadata": {},
   "outputs": [],
   "source": [
    "df.C_1stDegreeRelativesQty_BC = pd.to_numeric(df.C_1stDegreeRelativesQty_BC)\n",
    "df.C_firstlivebirthage = pd.to_numeric(df.C_firstlivebirthage)\n",
    "df.C_1stDegreeRelativesQty_BC = pd.to_numeric(df.C_1stDegreeRelativesQty_BC)\n",
    "df.asian = pd.to_numeric(df.asian)\n",
    "df.hispanic = pd.to_numeric(df.hispanic)"
   ]
  },
  {
   "cell_type": "markdown",
   "metadata": {},
   "source": [
    "### Replace Missing values\n",
    "- '\\\\0' values\n",
    "- '99' values"
   ]
  },
  {
   "cell_type": "code",
   "execution_count": null,
   "metadata": {},
   "outputs": [],
   "source": [
    "df.replace(value=np.nan,to_replace='\\\\0',inplace=True)\n",
    "cols = [i for i in df.columns if i!='C_currentage']\n",
    "df.loc[:,cols] = df.loc[:,cols].replace(value=np.nan,to_replace=99)\n",
    "\n",
    "print('List of Variables and the number of missing values per variable: ')\n",
    "df.isnull().sum()"
   ]
  },
  {
   "cell_type": "markdown",
   "metadata": {},
   "source": [
    "## Set Hispanic values with 4 to 1\n",
    "\n",
    "- Values in variable are 0,1,4. 1 and 4 represent whether you are hispanic."
   ]
  },
  {
   "cell_type": "code",
   "execution_count": null,
   "metadata": {},
   "outputs": [],
   "source": [
    "df.hispanic.replace(value=1,to_replace=4,inplace=True)"
   ]
  },
  {
   "cell_type": "markdown",
   "metadata": {},
   "source": [
    "## Droping American indians\n",
    "\n",
    "- Droping American Indians as the Gail model in our possession does not account for this race."
   ]
  },
  {
   "cell_type": "code",
   "execution_count": null,
   "metadata": {},
   "outputs": [],
   "source": [
    "df = df[~(df.amindian==1)]\n",
    "cols = [i for i in df.columns if i != 'amindian']\n",
    "df = df[cols]\n",
    "\n",
    "df.reset_index(inplace=True, drop=True)\n",
    "\n",
    "df.shape"
   ]
  },
  {
   "cell_type": "markdown",
   "metadata": {},
   "source": [
    "## Number of missing values per variable"
   ]
  },
  {
   "cell_type": "code",
   "execution_count": null,
   "metadata": {},
   "outputs": [],
   "source": [
    "df.isnull().sum()"
   ]
  },
  {
   "cell_type": "code",
   "execution_count": null,
   "metadata": {},
   "outputs": [],
   "source": [
    "df.isnull().sum()/len(df)"
   ]
  },
  {
   "cell_type": "code",
   "execution_count": null,
   "metadata": {},
   "outputs": [],
   "source": [
    "len(df)"
   ]
  },
  {
   "cell_type": "markdown",
   "metadata": {},
   "source": [
    "## Split into training and testing and validation\n",
    "\n",
    "- Here we provide the option of generating a validation set, for our analyis we merged the validation and testing set resulting into a 60% training set and 40% test set.\n",
    "\n",
    "- 20% testing data\n",
    "- 80% training data\n",
    "\n",
    "- if validation True\n",
    "\n",
    "    - 20% testing data\n",
    "    - 20% external testing data\n",
    "    - 60% training data"
   ]
  },
  {
   "cell_type": "code",
   "execution_count": null,
   "metadata": {},
   "outputs": [],
   "source": [
    "import mcip\n",
    "from mcip import *"
   ]
  },
  {
   "cell_type": "code",
   "execution_count": null,
   "metadata": {},
   "outputs": [],
   "source": [
    "dfTrain, dfTest, dfExtTest = train_test_split(df.copy(),testSetSize=0.2, extTestSetSize=0.2,external_validation=True, as_dataframe=True)\n",
    "print('Shape of training data: ' , dfTrain.shape)\n",
    "print('Shape of testing data: ' , dfTest.shape)\n",
    "print('Shape of external testing data: ' , dfExtTest.shape)"
   ]
  },
  {
   "cell_type": "code",
   "execution_count": null,
   "metadata": {},
   "outputs": [],
   "source": [
    "len(dfTest.oldIndex.unique())"
   ]
  },
  {
   "cell_type": "markdown",
   "metadata": {},
   "source": [
    "## Create a complete dataset of test cases\n",
    "\n",
    "- Droping cases with missing values from the validation and test set."
   ]
  },
  {
   "cell_type": "code",
   "execution_count": null,
   "metadata": {},
   "outputs": [],
   "source": [
    "dfTest = dfTest.dropna(axis=0)\n",
    "dfTest.reset_index(inplace=True,drop=True)\n",
    "dfTest.head(5)"
   ]
  },
  {
   "cell_type": "code",
   "execution_count": null,
   "metadata": {},
   "outputs": [],
   "source": [
    "dfTest.shape"
   ]
  },
  {
   "cell_type": "code",
   "execution_count": null,
   "metadata": {},
   "outputs": [],
   "source": [
    "dfExtTest = dfExtTest.dropna(axis=0)\n",
    "dfExtTest.reset_index(inplace=True,drop=True)\n",
    "dfExtTest.head(5)"
   ]
  },
  {
   "cell_type": "code",
   "execution_count": null,
   "metadata": {},
   "outputs": [],
   "source": [
    "dfExtTest.shape"
   ]
  },
  {
   "cell_type": "markdown",
   "metadata": {},
   "source": [
    "## Save data "
   ]
  },
  {
   "cell_type": "code",
   "execution_count": null,
   "metadata": {},
   "outputs": [],
   "source": [
    "df.to_csv('./Data/preProcData.csv',index=False)\n",
    "dfTrain.to_csv('./Data/preProcDataTrain.csv',index=False)\n",
    "dfTest.to_csv('./Data/preProcDataTest.csv',index=False)\n",
    "dfExtTest.to_csv('./Data/preProcDataExtTest.csv',index=False)"
   ]
  },
  {
   "cell_type": "code",
   "execution_count": null,
   "metadata": {},
   "outputs": [],
   "source": [
    "cols"
   ]
  },
  {
   "cell_type": "markdown",
   "metadata": {},
   "source": [
    "# Data Analysis of variables"
   ]
  },
  {
   "cell_type": "code",
   "execution_count": null,
   "metadata": {},
   "outputs": [],
   "source": [
    "import matplotlib.pyplot as plt\n",
    "%matplotlib inline\n",
    "\n",
    "plt.style.use('ggplot')\n",
    "\n",
    "font = {'family' : 'DejaVu Sans',\n",
    "        'size'   : 14}\n",
    "\n",
    "plt.rc('font', **font)\n",
    "\n",
    "plt.rc('axes',labelsize=18)\n",
    "\n",
    "fig, axes = plt.subplots(3, 3, figsize=(30, 30));\n",
    "\n",
    "cols = [i for i in df.columns if i not in ['G_5yearscore','MRN_D']]\n",
    "\n",
    "dicrete_cols = ['Black','White','Asian','Hispanic','Number of biopsies','First Degree Relatives \\n with breast cancer']\n",
    "\n",
    "ylabel = 'counts'\n",
    "\n",
    "titles = ['Black','White','Asian','Hispanic','Current age','Menarche age','Age of first birth','Number of biopsies',\n",
    "          'First Degree Relatives \\n with breast cancer']\n",
    "\n",
    "xlabels = ['Black/Counts','White/Counts','Asian/Counts','Hispanic/Counts','Current age/Years','Menarche age/Years',\n",
    "           'Age of first birth/Years','Number of biopsies/Counts','First Degree Relatives \\n with breast cancer/Counts']\n",
    "\n",
    "subPlotRow = 0\n",
    "subPlotCol = 0\n",
    "\n",
    "for col,xlabel,title in zip(cols,xlabels,titles):\n",
    "    \n",
    "    if title in dicrete_cols:\n",
    "        counts = df[col].dropna().astype('category').value_counts().as_matrix()\n",
    "        bars = len(df[col].dropna().astype('category').unique())\n",
    "        axes[subPlotRow,subPlotCol].bar(range(bars),counts,\n",
    "                                         alpha=0.5,width = 0.5,color='blue')\n",
    "        axes[subPlotRow,subPlotCol].set_title('Distribution of ' + title)\n",
    "        axes[subPlotRow,subPlotCol].set_xlabel(xlabel)\n",
    "        axes[subPlotRow,subPlotCol].set_ylabel(ylabel)\n",
    "        axes[subPlotRow,subPlotCol].set_xticks(range(bars))# df[col].dropna().astype('category').unique())\n",
    "    else:\n",
    "        axes[subPlotRow,subPlotCol].hist(df[col].dropna().as_matrix(),\n",
    "                                         alpha=0.5,bins=20,color = 'blue', align='left')\n",
    "        \n",
    "        if title=='Menarche age':\n",
    "            axes[subPlotRow,subPlotCol].set_xticks(range(int(df[col].dropna().min()),\n",
    "                                                         int(df[col].dropna().max()),2))\n",
    "            \n",
    "        axes[subPlotRow,subPlotCol].set_title('Distribution of ' + title)\n",
    "        axes[subPlotRow,subPlotCol].set_xlabel(xlabel)\n",
    "        axes[subPlotRow,subPlotCol].set_ylabel(ylabel)\n",
    "    \n",
    "    if subPlotCol == 2:\n",
    "        subPlotRow += 1\n",
    "        subPlotCol = -1\n",
    "        \n",
    "    subPlotCol += 1\n",
    "    "
   ]
  },
  {
   "cell_type": "code",
   "execution_count": null,
   "metadata": {},
   "outputs": [],
   "source": []
  }
 ],
 "metadata": {
  "anaconda-cloud": {},
  "kernelspec": {
   "display_name": "Python 3",
   "language": "python",
   "name": "python3"
  },
  "language_info": {
   "codemirror_mode": {
    "name": "ipython",
    "version": 3
   },
   "file_extension": ".py",
   "mimetype": "text/x-python",
   "name": "python",
   "nbconvert_exporter": "python",
   "pygments_lexer": "ipython3",
   "version": "3.6.0"
  },
  "toc": {
   "colors": {
    "hover_highlight": "#DAA520",
    "navigate_num": "#000000",
    "navigate_text": "#333333",
    "running_highlight": "#FF0000",
    "selected_highlight": "#FFD700",
    "sidebar_border": "#EEEEEE",
    "wrapper_background": "#FFFFFF"
   },
   "moveMenuLeft": true,
   "nav_menu": {
    "height": "99px",
    "width": "252px"
   },
   "navigate_menu": true,
   "number_sections": true,
   "sideBar": true,
   "threshold": 4,
   "toc_cell": false,
   "toc_position": {
    "height": "1070px",
    "left": "0px",
    "right": "2230px",
    "top": "108px",
    "width": "170px"
   },
   "toc_section_display": "block",
   "toc_window_display": true,
   "widenNotebook": false
  }
 },
 "nbformat": 4,
 "nbformat_minor": 2
}
