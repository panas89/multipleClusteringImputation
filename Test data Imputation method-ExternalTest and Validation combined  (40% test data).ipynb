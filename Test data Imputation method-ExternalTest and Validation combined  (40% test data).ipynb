{
 "cells": [
  {
   "cell_type": "markdown",
   "metadata": {},
   "source": [
    "# Breast Cancer clustering imputation method"
   ]
  },
  {
   "cell_type": "markdown",
   "metadata": {},
   "source": [
    "## Import Data"
   ]
  },
  {
   "cell_type": "code",
   "execution_count": null,
   "metadata": {},
   "outputs": [],
   "source": [
    "import pandas as pd"
   ]
  },
  {
   "cell_type": "code",
   "execution_count": null,
   "metadata": {},
   "outputs": [],
   "source": [
    "df = pd.read_csv('./Data/preProcData.csv')\n",
    "dfTrain = pd.read_csv('./Data/preProcDataTrain.csv')\n",
    "dfTest = pd.read_csv('./Data/preProcDataTest.csv')\n",
    "dfTestMissing = pd.read_csv('./Data/preProcDataTestMissing.csv')\n",
    "dfTestExt = pd.read_csv('./Data/preProcDataExtTest.csv')\n",
    "dfTestMissingExt = pd.read_csv('./Data/preProcDataExtTestMissing.csv')\n",
    "\n",
    "dfTest = dfTest.append(dfTestExt,ignore_index=True)        # merging the validation and testing set\n",
    "dfTestMissing = dfTestMissing.append(dfTestMissingExt,ignore_index=True)\n",
    "\n",
    "dfTestMissing.loc[0:5,:]"
   ]
  },
  {
   "cell_type": "code",
   "execution_count": null,
   "metadata": {},
   "outputs": [],
   "source": [
    "print('Number of instances: ' ,len(dfTestMissing))"
   ]
  },
  {
   "cell_type": "markdown",
   "metadata": {},
   "source": [
    "## Define categorical and continuous variables"
   ]
  },
  {
   "cell_type": "code",
   "execution_count": null,
   "metadata": {},
   "outputs": [],
   "source": [
    "categorical = ['black','white','asian','hispanic','c_numBiopsy','C_firstlivebirthage','C_1stDegreeRelativesQty_BC']\n",
    "continuous = ['C_currentage','C_menarcheage']\n",
    "\n",
    "linearVarCols = ['C_currentage','C_menarcheage'] #columns to introduce uncertainty +-1 range"
   ]
  },
  {
   "cell_type": "markdown",
   "metadata": {},
   "source": [
    "# Method of multiple clusters"
   ]
  },
  {
   "cell_type": "markdown",
   "metadata": {},
   "source": [
    "## Multi-processing parallel processing"
   ]
  },
  {
   "cell_type": "code",
   "execution_count": null,
   "metadata": {},
   "outputs": [],
   "source": [
    "from tqdm import tqdm_notebook\n",
    "import mcip\n",
    "from mcip import *\n",
    "from joblib import Parallel, delayed\n",
    "import multiprocessing\n",
    "\n",
    "numCores = multiprocessing.cpu_count()\n",
    "\n",
    "\n",
    "X = Parallel(n_jobs=numCores)(delayed(pipelineOfVariation)(caseInd, dfTrain=dfTrain, dfTest=dfTestMissing,printOutput=False, \\\n",
    "                                                           tolerance_Value=0.9,categorical=categorical,continuous=continuous, \\\n",
    "                                                           radius=50, alpha=0.5,variations=True, partialLinear=True, \\\n",
    "                                                           linearVarCols=linearVarCols)\n",
    "                                                   for caseInd in tqdm_notebook(range(len(dfTest))))"
   ]
  },
  {
   "cell_type": "code",
   "execution_count": null,
   "metadata": {},
   "outputs": [],
   "source": [
    "##############################################################################\n",
    "# Imputation of only one case\n",
    "\"\"\"\n",
    "pipelineOfVariation(caseInd=5, dfTrain=dfTrain, dfTest=dfTestMissing,printOutput=False, \\\n",
    "                       tolerance_Value=0.9,categorical=categorical,continuous=continuous, \\\n",
    "                       radius=50, alpha=0.5,variations=True, partialLinear=True, \\\n",
    "                       linearVarCols=linearVarCols)\n",
    "\"\"\""
   ]
  },
  {
   "cell_type": "markdown",
   "metadata": {},
   "source": [
    "## To dataframe"
   ]
  },
  {
   "cell_type": "code",
   "execution_count": null,
   "metadata": {},
   "outputs": [],
   "source": [
    "# X is a list of numpy arrays transforming it to numpy array\n",
    "x = np.empty((0,dfTestMissing.shape[1]))\n",
    "for i in tqdm_notebook(X):\n",
    "    x = np.vstack((x,i))"
   ]
  },
  {
   "cell_type": "code",
   "execution_count": null,
   "metadata": {},
   "outputs": [],
   "source": [
    "x.shape"
   ]
  },
  {
   "cell_type": "code",
   "execution_count": null,
   "metadata": {},
   "outputs": [],
   "source": [
    "# transforming numpy array to dataframe\n",
    "x = pd.DataFrame(data=x, columns=dfTestMissing.columns)\n",
    "x.head(3)"
   ]
  },
  {
   "cell_type": "code",
   "execution_count": null,
   "metadata": {},
   "outputs": [],
   "source": [
    "# check number of missing values, if all zeros then imputation was succesful\n",
    "x.isnull().sum()"
   ]
  },
  {
   "cell_type": "markdown",
   "metadata": {},
   "source": [
    "## Race variable based on most frequent race"
   ]
  },
  {
   "cell_type": "code",
   "execution_count": null,
   "metadata": {},
   "outputs": [],
   "source": [
    "# Method to impute race based on most frequent race\n",
    "x = getRace(x)"
   ]
  },
  {
   "cell_type": "code",
   "execution_count": null,
   "metadata": {},
   "outputs": [],
   "source": [
    "x.head(5)"
   ]
  },
  {
   "cell_type": "code",
   "execution_count": null,
   "metadata": {},
   "outputs": [],
   "source": [
    "x.isnull().sum()"
   ]
  },
  {
   "cell_type": "code",
   "execution_count": null,
   "metadata": {},
   "outputs": [],
   "source": [
    "dfTest = getRace(x=dfTest)\n",
    "dfTest.head(5)"
   ]
  },
  {
   "cell_type": "markdown",
   "metadata": {},
   "source": [
    "## Save dataset"
   ]
  },
  {
   "cell_type": "code",
   "execution_count": null,
   "metadata": {},
   "outputs": [],
   "source": [
    "x.to_csv('./Data/datasetOfCI.csv',index=False)\n",
    "dfTest.to_csv('./Data/preProcDataTestWithRace.csv',index=False)"
   ]
  },
  {
   "cell_type": "code",
   "execution_count": null,
   "metadata": {},
   "outputs": [],
   "source": []
  }
 ],
 "metadata": {
  "anaconda-cloud": {},
  "kernelspec": {
   "display_name": "Python 3",
   "language": "python",
   "name": "python3"
  },
  "language_info": {
   "codemirror_mode": {
    "name": "ipython",
    "version": 3
   },
   "file_extension": ".py",
   "mimetype": "text/x-python",
   "name": "python",
   "nbconvert_exporter": "python",
   "pygments_lexer": "ipython3",
   "version": "3.6.0"
  },
  "toc": {
   "colors": {
    "hover_highlight": "#DAA520",
    "navigate_num": "#000000",
    "navigate_text": "#333333",
    "running_highlight": "#FF0000",
    "selected_highlight": "#FFD700",
    "sidebar_border": "#EEEEEE",
    "wrapper_background": "#FFFFFF"
   },
   "moveMenuLeft": true,
   "nav_menu": {
    "height": "99px",
    "width": "252px"
   },
   "navigate_menu": true,
   "number_sections": true,
   "sideBar": true,
   "threshold": 4,
   "toc_cell": false,
   "toc_position": {
    "height": "1070px",
    "left": "0px",
    "right": "2230px",
    "top": "108px",
    "width": "170px"
   },
   "toc_section_display": "block",
   "toc_window_display": true,
   "widenNotebook": false
  }
 },
 "nbformat": 4,
 "nbformat_minor": 2
}
