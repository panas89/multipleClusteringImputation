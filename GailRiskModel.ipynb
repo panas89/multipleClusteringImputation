{
 "cells": [
  {
   "cell_type": "markdown",
   "metadata": {},
   "source": [
    "# Gail model\n",
    "\n",
    "**Note:** Run the API cell before attempting to run the following notebook."
   ]
  },
  {
   "cell_type": "markdown",
   "metadata": {},
   "source": [
    "## Import data"
   ]
  },
  {
   "cell_type": "code",
   "execution_count": null,
   "metadata": {},
   "outputs": [],
   "source": [
    "#complete data file\n",
    "datCompl = read.csv(\"./Data/preProcDataTestWithRace.csv\", header = TRUE)\n",
    "#missing data file\n",
    "dat = read.csv(\"./Data/datasetOfCI.csv\", header = TRUE)"
   ]
  },
  {
   "cell_type": "code",
   "execution_count": null,
   "metadata": {},
   "outputs": [],
   "source": [
    "#dataset size\n",
    "dim(dat)"
   ]
  },
  {
   "cell_type": "code",
   "execution_count": null,
   "metadata": {},
   "outputs": [],
   "source": [
    "datCompl[1:10,1:13]"
   ]
  },
  {
   "cell_type": "code",
   "execution_count": null,
   "metadata": {},
   "outputs": [],
   "source": [
    "#set values larger than 85 to 85\n",
    "dat[dat[,7] > 85,7] = 85\n",
    "\n",
    "#set values smaller than 20 to 20\n",
    "dat[dat[,7] < 20,7] = 20"
   ]
  },
  {
   "cell_type": "markdown",
   "metadata": {},
   "source": [
    "# Gail Risk Model Calculations\n",
    "\n",
    "## Probability example 1 case"
   ]
  },
  {
   "cell_type": "code",
   "execution_count": null,
   "metadata": {},
   "outputs": [],
   "source": [
    "# P <- GetProbability(age,laterAge,ageMen,nBiops,ageFLB,numRel,race)\n",
    "P <- GetProbability(dat[1,'C_currentage'], dat[1,'C_currentage'] + 5, dat[1,'C_menarcheage'], dat[1,'c_numBiopsy'], \n",
    "                            dat[1,'C_firstlivebirthage'], dat[1,'C_1stDegreeRelativesQty_BC'], dat[1,'race'])"
   ]
  },
  {
   "cell_type": "code",
   "execution_count": null,
   "metadata": {},
   "outputs": [],
   "source": [
    "P"
   ]
  },
  {
   "cell_type": "markdown",
   "metadata": {},
   "source": [
    "## Risk values for all examples\n",
    "\n",
    "- Missing values dataset\n",
    "- Complete values dataset"
   ]
  },
  {
   "cell_type": "code",
   "execution_count": null,
   "metadata": {},
   "outputs": [],
   "source": [
    "absoluteRisk5year <- mapply(GetProbability, dat$C_currentage, dat$C_currentage + 5, dat$C_menarcheage, dat$c_numBiopsy, \n",
    "                            dat$C_firstlivebirthage, dat$C_1stDegreeRelativesQty_BC, dat$race)\n",
    "\n",
    "absoluteRisk5yearCompl <- mapply(GetProbability, datCompl$C_currentage, datCompl$C_currentage + 5,\n",
    "                                datCompl$C_menarcheage, datCompl$c_numBiopsy, \n",
    "                            datCompl$C_firstlivebirthage, datCompl$C_1stDegreeRelativesQty_BC, datCompl$race)"
   ]
  },
  {
   "cell_type": "code",
   "execution_count": null,
   "metadata": {},
   "outputs": [],
   "source": [
    "dat[['5YearAbsRisk']] <- as.numeric(absoluteRisk5year)\n",
    "datCompl[['5YearAbsRisk']] <- absoluteRisk5yearCompl"
   ]
  },
  {
   "cell_type": "code",
   "execution_count": null,
   "metadata": {},
   "outputs": [],
   "source": [
    "dat[1:5,1:14]"
   ]
  },
  {
   "cell_type": "code",
   "execution_count": null,
   "metadata": {},
   "outputs": [],
   "source": [
    "datCompl[1:5,1:14]"
   ]
  },
  {
   "cell_type": "code",
   "execution_count": null,
   "metadata": {},
   "outputs": [],
   "source": [
    "typeof(absoluteRisk5year)"
   ]
  },
  {
   "cell_type": "markdown",
   "metadata": {},
   "source": [
    "## Save file as csv"
   ]
  },
  {
   "cell_type": "code",
   "execution_count": null,
   "metadata": {},
   "outputs": [],
   "source": [
    "# Write CSV in R\n",
    "write.csv(dat, file = \"./Data/datasetOfCI_5_year_Risk.csv\", row.names=FALSE)\n",
    "write.csv(datCompl, file = \"./Data/testComplDataCI_5_year_Risk.csv\", row.names=FALSE)"
   ]
  },
  {
   "cell_type": "markdown",
   "metadata": {},
   "source": [
    "# API \n",
    "\n",
    "- Gail model was implemented by [Nova Smedley](https://github.com/novasmedley/Gail-Breast-Risk-Calculator)"
   ]
  },
  {
   "cell_type": "code",
   "execution_count": null,
   "metadata": {},
   "outputs": [],
   "source": [
    "### STATIC VARIABLES\n",
    "\n",
    "\n",
    "# 1         2           3         4          5           6         7               8               9               10               11              12\n",
    "# White     Black       Hispanic  WhiteAvg   BlackAvg    HispAvg   Chinese         Japanese        Filipino        Hawaiian        Other Pac Isl   Other Asian\n",
    "\n",
    "# Competing hazards - non-breast cancer hazards (h2)\n",
    "h2_ <- matrix(c(\n",
    "  0.000493, 0.00074354, 0.000437, 0.0004412, 0.00074354, 0.000437, 0.000210649076, 0.000173593803, 0.000229120979, 0.000563507269, 0.000465500812, 0.000212632332, # 0. [20:25)\n",
    "  0.000531, 0.00101698, 0.000533, 0.0005254, 0.00101698, 0.000533, 0.000192644865, 0.000295805882, 0.000262988494, 0.000369640217, 0.000600466920, 0.000242170741, # 1. [25:30)\n",
    "  0.000625, 0.00145937, 0.000700, 0.0006746, 0.00145937, 0.000700, 0.000244435215, 0.000228322534, 0.000314844090, 0.001019912579, 0.000851057138, 0.000301552711, # 2. [30:35)\n",
    "  0.000825, 0.00215933, 0.000897, 0.0009092, 0.00215933, 0.000897, 0.000317895949, 0.000363242389, 0.000394471908, 0.001234013911, 0.001478265376, 0.000369053354, # 3. [35:40)\n",
    "  0.001307, 0.00315077, 0.001163, 0.0012534, 0.00315077, 0.001163, 0.000473261994, 0.000590633044, 0.000647622610, 0.002098344078, 0.001931486788, 0.000543002943, # 4. [40:45)\n",
    "  0.002181, 0.00448779, 0.001720, 0.0019570, 0.00448779, 0.001720, 0.000800271380, 0.001086079485, 0.001170202327, 0.002982934175, 0.003866623959, 0.000893862331, # 5. [45:50)\n",
    "  0.003655, 0.00632281, 0.002646, 0.0032984, 0.00632281, 0.002646, 0.001217480226, 0.001859999966, 0.001809380379, 0.005402445702, 0.004924932309, 0.001515172239, # 6. [50:55)\n",
    "  0.005852, 0.00963037, 0.004216, 0.0054622, 0.00963037, 0.004216, 0.002099836508, 0.003216600974, 0.002614170568, 0.009591474245, 0.008177071806, 0.002574669551, # 7. [55:60)\n",
    "  0.009439, 0.01471818, 0.006960, 0.0091035, 0.01471818, 0.006960, 0.003436889186, 0.004719402141, 0.004483330681, 0.016315472607, 0.008638202890, 0.004324370426, # 8. [60:65)\n",
    "  0.015028, 0.02116304, 0.010867, 0.0141854, 0.02116304, 0.010867, 0.006097405623, 0.008535331402, 0.007393665092, 0.020152229069, 0.018974658371, 0.007419621918, # 9. [65:70)\n",
    "  0.023839, 0.03266035, 0.016858, 0.0225935, 0.03266035, 0.016858, 0.010664526765, 0.012433511681, 0.012233059675, 0.027354838710, 0.029257567105, 0.013251765130, # 10. [70:75)\n",
    "  0.038832, 0.04564087, 0.025156, 0.0361146, 0.04564087, 0.025156, 0.020148678452, 0.020230197885, 0.021127058106, 0.050446998723, 0.038408980974, 0.022291427490, # 11. [75:80)\n",
    "  0.066828, 0.06835185, 0.041866, 0.0613626, 0.06835185, 0.041866, 0.037990796590, 0.037725498348, 0.037936954809, 0.072262026612, 0.052869579345, 0.041746550635, # 12. [80:85)\n",
    "  0.144908, 0.13271262, 0.089476, 0.1420663, 0.13271262, 0.089476, 0.098333900733, 0.106149118663, 0.085138518334, 0.145844504021, 0.074745721133, 0.087485802065  # 13. [85:90)\n",
    "), nrow = 12, ncol = 14)\n",
    "\n",
    "# Breast cancer composite incidence rates (h1*)\n",
    "h1_star_ <- matrix(c(\n",
    "  0.000010, 0.00002696, 0.000020, 0.0000122, 0.00002696, 0.000020, 0.000004059636, 0.000000000001, 0.000007500161, 0.000045080582, 0.000000000001, 0.000012355409, # 0. [20:25)\n",
    "  0.000076, 0.00011295, 0.000071, 0.0000741, 0.00011295, 0.000071, 0.000045944465, 0.000099483924, 0.000081073945, 0.000098570724, 0.000071525212, 0.000059526456, # 1. [25:30)\n",
    "  0.000266, 0.00031094, 0.000197, 0.0002297, 0.00031094, 0.000197, 0.000188279352, 0.000287041681, 0.000227492565, 0.000339970860, 0.000288799028, 0.000184320831, # 2. [30:35)\n",
    "  0.000661, 0.00067639, 0.000438, 0.0005649, 0.00067639, 0.000438, 0.000492930493, 0.000545285759, 0.000549786433, 0.000852591429, 0.000602250698, 0.000454677273, # 3. [35:40)\n",
    "  0.001265, 0.00119444, 0.000811, 0.0011645, 0.00119444, 0.000811, 0.000913603501, 0.001152211095, 0.001129400541, 0.001668562761, 0.000755579402, 0.000791265338, # 4. [40:45)\n",
    "  0.001866, 0.00187394, 0.001307, 0.0019525, 0.00187394, 0.001307, 0.001471537353, 0.001859245108, 0.001813873795, 0.002552703284, 0.000766406354, 0.001048462801, # 5. [45:50)\n",
    "  0.002211, 0.00241504, 0.001574, 0.0026154, 0.00241504, 0.001574, 0.001421275482, 0.002606291272, 0.002223665639, 0.003321774046, 0.001893124938, 0.001372467817, # 6. [50:55)\n",
    "  0.002721, 0.00291112, 0.001857, 0.0030279, 0.00291112, 0.001857, 0.001970946494, 0.003221751682, 0.002680309266, 0.005373001776, 0.002365580107, 0.001495473711, # 7. [55:60)\n",
    "  0.003348, 0.00310127, 0.002151, 0.0036757, 0.00310127, 0.002151, 0.001674745804, 0.004006961859, 0.002891219230, 0.005237808549, 0.002843933070, 0.001646746198, # 8. [60:65)\n",
    "  0.003923, 0.00366560, 0.002512, 0.0042029, 0.00366560, 0.002512, 0.001821581075, 0.003521715275, 0.002534421279, 0.005581732512, 0.002920921732, 0.001478363563, # 9. [65:70)\n",
    "  0.004178, 0.00393132, 0.002846, 0.0047308, 0.00393132, 0.002846, 0.001834477198, 0.003593038294, 0.002457159409, 0.005677419355, 0.002330395655, 0.001216010125, # 10. [70:75)\n",
    "  0.004439, 0.00408951, 0.002757, 0.0049425, 0.00408951, 0.002757, 0.001919911972, 0.003589303081, 0.002286616920, 0.006513409962, 0.002036291235, 0.001067663700, # 11. [75:80)\n",
    "  0.004421, 0.00396793, 0.002523, 0.0047976, 0.00396793, 0.002523, 0.002233371071, 0.003538507159, 0.001814802825, 0.003889457523, 0.001482683983, 0.001376104012, # 12. [80:85)\n",
    "  0.004109, 0.00363712, 0.002039, 0.0040106, 0.00363712, 0.002039, 0.002247315779, 0.002051572909, 0.001750879130, 0.002949061662, 0.001012248203, 0.000661576644  # 13. [85:90)\n",
    "), nrow = 12, ncol = 14)\n",
    "\n",
    "\n",
    "# Logistic regression coefficients (beta)\n",
    "beta_ <- matrix(c(\n",
    "  -0.7494824600, -0.3457169653, -0.7494824600, -0.7494824600, -0.3457169653, -0.7494824600, # Intercept\n",
    "  0.0108080720,  0.0334703319,  0.0108080720,  0.0108080720,  0.0334703319,  0.0108080720, # Age >= 50 indicator\n",
    "  0.0940103059,  0.2672530336,  0.0940103059,  0.0940103059,  0.2672530336,  0.0940103059, # Age menarche\n",
    "  0.5292641686,  0.1822121131,  0.5292641686,  0.5292641686,  0.1822121131,  0.5292641686, # Num of breast biopsies\n",
    "  0.2186262218,  0.0000000000,  0.2186262218,  0.2186262218,  0.0000000000,  0.2186262218, # Age 1st live birth\n",
    "  0.9583027845,  0.4757242578,  0.9583027845,  0.9583027845,  0.4757242578,  0.9583027845, # 1st degree relatives\n",
    "  -0.2880424830, -0.1119411682, -0.2880424830, -0.2880424830, -0.1119411682, -0.2880424830, # Breast biopsies * age >= 50\n",
    "  -0.1908113865,  0.0000000000, -0.1908113865, -0.1908113865,  0.0000000000, -0.1908113865  # Age 1st live birth * 1st degree relatives\n",
    "), nrow = 6, ncol = 8)\n",
    "for (i in 7:12) {\n",
    "  beta_ <- rbind(beta_,c(0,0,0.07499257592975,0.55263612260619,0.27638268294593,0.79185633720481,0,0))\n",
    "} # Asians have the same coefficients\n",
    "\n",
    "# Population Attributable Factor (PAF)\n",
    "PAF_ <- matrix(c(\n",
    "  0.5788413, 0.72949880, 0.5788413, 1, 1, 1, # Age < 50\n",
    "  0.5788413, 0.74397137, 0.5788413, 1, 1, 1  # Age >=50\n",
    "), nrow = 6, ncol = 2)\n",
    "for (i in 7:12) {\n",
    "  PAF_ <- rbind(PAF_,c(0.47519806426735,0.50316401683903))\n",
    "} # Asians have the same PAF\n",
    "PAF_ <- rbind(PAF_,c(1,1)) # Presumably Asian Average\n",
    "\n",
    "ageIntervals <- seq(20,90,by=5)\n",
    "\n",
    "### FUNCTIONS\n",
    "\n",
    "# Get probability. The main function to run\n",
    "GetProbability <- function(age,laterAge,ageMen,nBiops,ageFLB,numRel,race) { \n",
    "  riskGroupInfo <- rep(0,length(beta))\n",
    "  riskGroupInfo[1] <- 1\n",
    "  riskGroupInfo[2] <- getAgeCategory(age)\n",
    "  riskGroupInfo[3] <- getAgeMenCategory(ageMen)\n",
    "  riskGroupInfo[4] <- getNBiopsCategory(nBiops)\n",
    "  riskGroupInfo[5] <- getAgeFLBCategory(ageFLB)\n",
    "  riskGroupInfo[6] <- getNumRelCategory(numRel)\n",
    "  riskGroupInfo[7] <- riskGroupInfo[4]*riskGroupInfo[2]\n",
    "  riskGroupInfo[8] <- riskGroupInfo[5]*riskGroupInfo[6]\n",
    "  raceIndex <- getRaceIndex(race)\n",
    "  \n",
    "  jStart <- findInterval(age,ageIntervals,rightmost.closed=TRUE)\n",
    "  jEnd <- findInterval(laterAge,ageIntervals,rightmost.closed=TRUE)\n",
    "  \n",
    "  RR <- CalculateRelativeRisk(riskGroupInfo,raceIndex)\n",
    "  P <- CalculateAbsoluteRisk(jStart,jEnd,RR,raceIndex)\n",
    "  \n",
    "  return(P)\n",
    "}\n",
    "\n",
    "CalculateRelativeRisk <- function(riskGroupInfo,raceIndex) {\n",
    "  beta <- beta_[raceIndex,]\n",
    "  betaTotal <- sum(riskGroupInfo*beta)\n",
    "  relativeRisk <- exp(betaTotal)\n",
    "  \n",
    "  return (relativeRisk)\n",
    "}\n",
    "\n",
    "CalculateAbsoluteRisk <- function(jStart,jEnd,relativeRisk,raceIndex){\n",
    "  h2 <- h2_[raceIndex,] # competing hazards\n",
    "  h1_star <- h1_star_[raceIndex,] # breast cancer hazard\n",
    "  PAF <- PAF_[raceIndex,] # population attributable factor\n",
    "  \n",
    "  h1 <- rep(1,14) # baseline hazard, calculated\n",
    "  for (i in 1:7)  h1[i] <- h1_star[i]*PAF[1]\n",
    "  for (i in 8:14) h1[i] <- h1_star[i]*PAF[2]\n",
    "  \n",
    "  prob <- 0;\n",
    "  \n",
    "  # calculate all the needed s1, s2 values, which has 1.0 in position 1, and the rest represent age intervals\n",
    "  s1T <- rep(1,jEnd+1) # survival of competing hazards\n",
    "  s2T <- rep(1,jEnd+1) # survival of breast cancer hazard\n",
    "  for (i in 2:(jEnd+1)){\n",
    "    s1T[i] <- s1T[i-1]*exp(-(h1[i-1]*relativeRisk*5))\n",
    "    s2T[i] <- s2T[i-1]*exp(-(h2[i-1]*5))\n",
    "  }\n",
    "  for (j in jStart:jEnd) { #s1 and s2 at index j is one age interval behind h1 and h2\n",
    "    prob = prob + ((h1[j]*relativeRisk)/(h1[j]*relativeRisk+h2[j]))*(s1T[j]/s1T[jStart])*(s2T[j]/s2T[jStart])*(1.0 - exp(-5*(h1[j]*relativeRisk+h2[j])) )\n",
    "  }\n",
    "  \n",
    "  return(prob*100)\n",
    "}\n",
    "\n",
    "## Categorize risk factors\n",
    "getAgeCategory <- function(age) {\n",
    "  if (age>=50) return(1)\n",
    "  return(0) # <50\n",
    "} # Age category\n",
    "getAgeMenCategory <- function(age) {\n",
    "  if (age<12) return(2)\n",
    "  else if (age<=13) return(1)\n",
    "  return(0) # >=14\n",
    "} # Age of menarche\n",
    "getAgeFLBCategory <- function(age) {\n",
    "  if (age>=30) return(3)\n",
    "  else if (age>=25 || age==0) return(2) # age==0 for nulliparous\n",
    "  else if (age>=20) return(1)\n",
    "  return(0) # <20\n",
    "} # Age at first live birth\n",
    "getNBiopsCategory <- function(num) {\n",
    "  return(getNumBiopsRelCategory(num))\n",
    "} # Number of biopsies\n",
    "getNumRelCategory <- function(num) {\n",
    "  return(getNumBiopsRelCategory(num))\n",
    "} # Number of 1st degree relatives with breast cancer\n",
    "getNumBiopsRelCategory <- function(num) {\n",
    "  if (num>=2) return(2)\n",
    "  else if (num==1) return(1)\n",
    "  return(0) # 0\n",
    "} # Number of biopsies and number of 1st degree relatives with breast cancer\n",
    "getRaceIndex <- function(race) {\n",
    "  race <- tolower(c(race))\n",
    "  if (grepl(\"white\",race) > 0) return(1)\n",
    "  else if (grepl(\"black\",race) > 0) return(2)\n",
    "  else if (grepl(\"hispanic\",race) > 0) return(3)\n",
    "  else if (grepl(\"chinese\",race) > 0) return(7)\n",
    "  else if (grepl(\"japanese\",race) > 0) return (8)\n",
    "  else if (grepl(\"filipino\",race) > 0) return (9)\n",
    "  else if (grepl(\"hawaiian\",race) > 0) return (10)\n",
    "  else if (grepl(\"pacific\",race) > 0 & grepl(\"islander\",race) >0) return (11)\n",
    "  else if (grepl(\"asian\",race) > 0) return (12)\n",
    "  else return(1) # default just in case\n",
    "}\n",
    "\n",
    "### TESTING\n",
    "# age <- 35\n",
    "# laterAge <- age+5\n",
    "# ageMen <- 14\n",
    "# nBiops <- 0\n",
    "# ageFLB <- 19\n",
    "# numRel <- 0\n",
    "# race <- \"white\"\n",
    "# P <- GetProbability(age,laterAge,ageMen,nBiops,ageFLB,numRel,race)"
   ]
  },
  {
   "cell_type": "code",
   "execution_count": null,
   "metadata": {},
   "outputs": [],
   "source": []
  },
  {
   "cell_type": "code",
   "execution_count": null,
   "metadata": {},
   "outputs": [],
   "source": []
  }
 ],
 "metadata": {
  "kernelspec": {
   "display_name": "R",
   "language": "R",
   "name": "ir"
  },
  "language_info": {
   "codemirror_mode": "r",
   "file_extension": ".r",
   "mimetype": "text/x-r-source",
   "name": "R",
   "pygments_lexer": "r",
   "version": "3.4.1"
  },
  "toc": {
   "colors": {
    "hover_highlight": "#DAA520",
    "navigate_num": "#000000",
    "navigate_text": "#333333",
    "running_highlight": "#FF0000",
    "selected_highlight": "#FFD700",
    "sidebar_border": "#EEEEEE",
    "wrapper_background": "#FFFFFF"
   },
   "moveMenuLeft": true,
   "nav_menu": {
    "height": "161px",
    "width": "252px"
   },
   "navigate_menu": true,
   "number_sections": true,
   "sideBar": true,
   "threshold": 4,
   "toc_cell": false,
   "toc_position": {
    "height": "1070px",
    "left": "0px",
    "right": "2188px",
    "top": "108px",
    "width": "212px"
   },
   "toc_section_display": "block",
   "toc_window_display": true,
   "widenNotebook": false
  }
 },
 "nbformat": 4,
 "nbformat_minor": 2
}
